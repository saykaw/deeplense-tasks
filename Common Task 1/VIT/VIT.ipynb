{
  "nbformat": 4,
  "nbformat_minor": 0,
  "metadata": {
    "colab": {
      "provenance": [],
      "gpuType": "T4"
    },
    "kernelspec": {
      "name": "python3",
      "display_name": "Python 3"
    },
    "language_info": {
      "name": "python"
    },
    "accelerator": "GPU"
  },
  "cells": [
    {
      "cell_type": "code",
      "execution_count": null,
      "metadata": {
        "id": "YxgZvbAU4fyA"
      },
      "outputs": [],
      "source": [
        "import os\n",
        "import numpy as np\n",
        "import torch\n",
        "import torch.nn as nn\n",
        "import torchvision.transforms as transforms\n",
        "from torch.utils.data import Dataset, DataLoader\n",
        "from timm import create_model\n",
        "from itertools import product\n",
        "from sklearn.metrics import roc_auc_score, confusion_matrix, roc_curve\n",
        "import matplotlib.pyplot as plt\n",
        "import random\n",
        "import zipfile\n",
        "import warnings\n",
        "warnings.filterwarnings(\"ignore\")"
      ]
    },
    {
      "cell_type": "code",
      "source": [
        "class LensingDataset(Dataset):\n",
        "    def __init__(self, root_dir, transform=None):\n",
        "        self.root_dir = root_dir\n",
        "        self.transform = transform\n",
        "        self.classes = ['no', 'sphere', 'vort']\n",
        "        self.files = []\n",
        "        for idx, cls in enumerate(self.classes):\n",
        "            cls_dir = os.path.join(root_dir, cls)\n",
        "            for f in os.listdir(cls_dir):\n",
        "                if f.endswith('.npy'):\n",
        "                    self.files.append((os.path.join(cls_dir, f), idx))\n",
        "\n",
        "    def __len__(self):\n",
        "        return len(self.files)\n",
        "\n",
        "    def __getitem__(self, idx):\n",
        "        file_path, label = self.files[idx]\n",
        "        img = np.load(file_path)  # (1, 150, 150), float64, 0-1\n",
        "        img = torch.tensor(img, dtype=torch.float32)\n",
        "        if self.transform:\n",
        "            img = self.transform(img)\n",
        "        return img, label"
      ],
      "metadata": {
        "id": "uGkZxXNe4q9R"
      },
      "execution_count": null,
      "outputs": []
    },
    {
      "cell_type": "code",
      "source": [
        "# The given 150x150 grayscale images (1 channel) needs to become 224x224 RGB (3 channels) properly.\n",
        "# I had two options, simply duplicating the single channel 3 times or convert in into 3 channels using convolution.\n",
        "# I have created this class which is a lightweight 1x1 conv layer, it learns a mapping from 1 to 3 channels, preserving info without faking it.\n",
        "class ChannelAdapter(nn.Module):\n",
        "    def __init__(self):\n",
        "        super().__init__()\n",
        "        self.conv = nn.Conv2d(1, 3, kernel_size=1, bias=False)\n",
        "\n",
        "    def forward(self, x):\n",
        "        return self.conv(x)"
      ],
      "metadata": {
        "id": "P6YOoxdU4q6V"
      },
      "execution_count": null,
      "outputs": []
    },
    {
      "cell_type": "code",
      "source": [
        "# Resized the 150 x 150 images into 224 x 224 (supporting VIT inputs)\n",
        "# Applied Data Augmentation to only training data\n",
        "# The images are already min-max normalized (0 to 1), slapping on extra normalization would be an overkill - skipped it.\n",
        "train_transform = transforms.Compose([\n",
        "    transforms.Resize((224, 224)),\n",
        "    transforms.RandomHorizontalFlip(),\n",
        "    transforms.RandomRotation(10),\n",
        "    transforms.RandomAffine(degrees=15, translate=(0.1, 0.1))\n",
        "])\n",
        "val_transform = transforms.Compose([\n",
        "    transforms.Resize((224, 224))\n",
        "])\n"
      ],
      "metadata": {
        "id": "l9lDW7tG4q3c"
      },
      "execution_count": null,
      "outputs": []
    },
    {
      "cell_type": "code",
      "source": [
        "zip_path = \"dataset.zip\"\n",
        "with zipfile.ZipFile(zip_path, 'r') as zip_ref:\n",
        "    zip_ref.extractall(\"/content/dataset\")\n"
      ],
      "metadata": {
        "id": "F5XyZzi363MR"
      },
      "execution_count": null,
      "outputs": []
    },
    {
      "cell_type": "code",
      "source": [
        "train_dataset = LensingDataset('/content/dataset/dataset/train', transform=train_transform)\n",
        "val_dataset = LensingDataset('/content/dataset/dataset/val', transform=val_transform)"
      ],
      "metadata": {
        "id": "kfMirSVB4q0h"
      },
      "execution_count": null,
      "outputs": []
    },
    {
      "cell_type": "code",
      "source": [
        "# Initially tried to run a grid search over 36 combos (4 LRs × 3 BSs × 3 DRs), training each for 5 epochs to gauge val loss.\n",
        "# Due to Time and Computational constrains, switched to Random search over 10 combos (not 36), 3 epochs each (not 5).\n",
        "learning_rates = [1e-5, 3e-5, 1e-4, 3e-4]\n",
        "batch_sizes = [16, 32, 64]\n",
        "drop_rates = [0.0, 0.1, 0.2]\n",
        "\n",
        "device = torch.device('cuda' if torch.cuda.is_available() else 'cpu')\n",
        "best_val_loss = float('inf')\n",
        "best_params = None\n",
        "trials = 10\n",
        "\n",
        "for _ in range(trials):\n",
        "    lr = random.choice(learning_rates)\n",
        "    bs = random.choice(batch_sizes)\n",
        "    dr = random.choice(drop_rates)\n",
        "    print(f'\\nTuning: LR={lr}, BS={bs}, DR={dr}')\n",
        "    train_loader = DataLoader(train_dataset, batch_size=bs, shuffle=True, num_workers=4)\n",
        "    val_loader = DataLoader(val_dataset, batch_size=bs, shuffle=False, num_workers=4)\n",
        "\n",
        "    adapter = ChannelAdapter().to(device)\n",
        "    model = create_model('vit_small_patch16_224', pretrained=True, num_classes=3, drop_rate=dr).to(device)\n",
        "    criterion = nn.CrossEntropyLoss()\n",
        "    optimizer = torch.optim.AdamW(list(adapter.parameters()) + list(model.parameters()), lr=lr)\n",
        "    scheduler = torch.optim.lr_scheduler.CosineAnnealingLR(optimizer, T_max=3)\n",
        "\n",
        "    for epoch in range(3):\n",
        "        model.train()\n",
        "        train_loss = 0\n",
        "        for imgs, labels in train_loader:\n",
        "            imgs, labels = imgs.to(device), labels.to(device)\n",
        "            imgs = adapter(imgs)\n",
        "            optimizer.zero_grad()\n",
        "            outputs = model(imgs)\n",
        "            loss = criterion(outputs, labels)\n",
        "            loss.backward()\n",
        "            optimizer.step()\n",
        "            train_loss += loss.item()\n",
        "        train_loss /= len(train_loader)\n",
        "\n",
        "        model.eval()\n",
        "        val_loss = 0\n",
        "        with torch.no_grad():\n",
        "            for imgs, labels in val_loader:\n",
        "                imgs, labels = imgs.to(device), labels.to(device)\n",
        "                imgs = adapter(imgs)\n",
        "                outputs = model(imgs)\n",
        "                loss = criterion(outputs, labels)\n",
        "                val_loss += loss.item()\n",
        "        val_loss /= len(val_loader)\n",
        "\n",
        "        print(f'Epoch {epoch+1}/3, Train Loss: {train_loss:.4f}, Val Loss: {val_loss:.4f}')\n",
        "        scheduler.step()\n",
        "\n",
        "    if val_loss < best_val_loss:\n",
        "        best_val_loss = val_loss\n",
        "        best_params = (lr, bs, dr)\n",
        "\n",
        "print(f'\\nBest Params: LR={best_params[0]}, BS={best_params[1]}, DR={best_params[2]}, Val Loss={best_val_loss:.4f}')"
      ],
      "metadata": {
        "colab": {
          "base_uri": "https://localhost:8080/"
        },
        "id": "0NI_gdAc4qxv",
        "outputId": "b1d7b2d5-8cae-4808-9858-418e416930e7"
      },
      "execution_count": null,
      "outputs": [
        {
          "output_type": "stream",
          "name": "stdout",
          "text": [
            "\n",
            "Tuning: LR=0.0003, BS=16, DR=0.0\n",
            "Epoch 1/3, Train Loss: 1.1087, Val Loss: 1.1007\n",
            "Epoch 2/3, Train Loss: 1.1003, Val Loss: 1.1009\n",
            "Epoch 3/3, Train Loss: 1.0992, Val Loss: 1.0987\n",
            "\n",
            "Tuning: LR=3e-05, BS=32, DR=0.0\n",
            "Epoch 1/3, Train Loss: 1.0806, Val Loss: 0.9764\n",
            "Epoch 2/3, Train Loss: 0.8746, Val Loss: 0.7342\n",
            "Epoch 3/3, Train Loss: 0.6627, Val Loss: 0.5876\n",
            "\n",
            "Tuning: LR=3e-05, BS=16, DR=0.0\n",
            "Epoch 1/3, Train Loss: 1.1060, Val Loss: 1.0993\n",
            "Epoch 2/3, Train Loss: 1.1014, Val Loss: 1.0991\n",
            "Epoch 3/3, Train Loss: 1.0620, Val Loss: 0.9849\n",
            "\n",
            "Tuning: LR=0.0001, BS=64, DR=0.1\n",
            "Epoch 1/3, Train Loss: 1.1088, Val Loss: 1.0999\n",
            "Epoch 2/3, Train Loss: 1.1030, Val Loss: 1.0988\n",
            "Epoch 3/3, Train Loss: 1.1010, Val Loss: 1.0991\n",
            "\n",
            "Tuning: LR=0.0003, BS=16, DR=0.2\n",
            "Epoch 1/3, Train Loss: 1.1105, Val Loss: 1.0989\n",
            "Epoch 2/3, Train Loss: 1.1008, Val Loss: 1.0988\n",
            "Epoch 3/3, Train Loss: 1.0992, Val Loss: 1.0988\n",
            "\n",
            "Tuning: LR=3e-05, BS=64, DR=0.1\n",
            "Epoch 1/3, Train Loss: 1.1060, Val Loss: 1.1005\n",
            "Epoch 2/3, Train Loss: 1.1018, Val Loss: 1.0986\n",
            "Epoch 3/3, Train Loss: 1.0986, Val Loss: 1.0925\n",
            "\n",
            "Tuning: LR=1e-05, BS=64, DR=0.0\n",
            "Epoch 1/3, Train Loss: 1.0991, Val Loss: 1.0880\n",
            "Epoch 2/3, Train Loss: 0.9923, Val Loss: 0.8938\n",
            "Epoch 3/3, Train Loss: 0.8708, Val Loss: 0.8343\n",
            "\n",
            "Tuning: LR=0.0001, BS=64, DR=0.2\n",
            "Epoch 1/3, Train Loss: 1.1120, Val Loss: 1.0994\n",
            "Epoch 2/3, Train Loss: 1.1031, Val Loss: 1.1042\n",
            "Epoch 3/3, Train Loss: 1.1008, Val Loss: 1.1005\n",
            "\n",
            "Tuning: LR=1e-05, BS=16, DR=0.1\n",
            "Epoch 1/3, Train Loss: 0.9987, Val Loss: 0.8277\n",
            "Epoch 2/3, Train Loss: 0.7677, Val Loss: 0.6579\n",
            "Epoch 3/3, Train Loss: 0.6432, Val Loss: 0.5846\n",
            "\n",
            "Tuning: LR=3e-05, BS=32, DR=0.2\n",
            "Epoch 1/3, Train Loss: 1.1093, Val Loss: 1.0992\n",
            "Epoch 2/3, Train Loss: 1.0886, Val Loss: 1.0698\n",
            "Epoch 3/3, Train Loss: 0.9053, Val Loss: 0.8159\n",
            "\n",
            "Best Params: LR=1e-05, BS=16, DR=0.1, Val Loss=0.5846\n"
          ]
        }
      ]
    },
    {
      "cell_type": "code",
      "source": [
        "train_loader = DataLoader(train_dataset, batch_size=best_params[1], shuffle=True, num_workers=4)\n",
        "val_loader = DataLoader(val_dataset, batch_size=best_params[1], shuffle=False, num_workers=4)\n",
        "adapter = ChannelAdapter().to(device)\n",
        "model = create_model('vit_small_patch16_224', pretrained=True, num_classes=3, drop_rate=best_params[2]).to(device)\n",
        "optimizer = torch.optim.AdamW(list(adapter.parameters()) + list(model.parameters()), lr=best_params[0])\n",
        "scheduler = torch.optim.lr_scheduler.CosineAnnealingLR(optimizer, T_max=15)"
      ],
      "metadata": {
        "id": "5talARr94quy"
      },
      "execution_count": null,
      "outputs": []
    },
    {
      "cell_type": "code",
      "source": [
        "for epoch in range(15):\n",
        "    model.train()\n",
        "    train_loss = 0\n",
        "    for imgs, labels in train_loader:\n",
        "        imgs, labels = imgs.to(device), labels.to(device)\n",
        "        imgs = adapter(imgs)\n",
        "        optimizer.zero_grad()\n",
        "        outputs = model(imgs)\n",
        "        loss = criterion(outputs, labels)\n",
        "        loss.backward()\n",
        "        optimizer.step()\n",
        "        train_loss += loss.item()\n",
        "    train_loss /= len(train_loader)\n",
        "\n",
        "    model.eval()\n",
        "    val_loss = 0\n",
        "    all_preds, all_labels = [], []\n",
        "    with torch.no_grad():\n",
        "        for imgs, labels in val_loader:\n",
        "            imgs, labels = imgs.to(device), labels.to(device)\n",
        "            imgs = adapter(imgs)\n",
        "            outputs = model(imgs)\n",
        "            loss = criterion(outputs, labels)\n",
        "            val_loss += loss.item()\n",
        "            preds = torch.softmax(outputs, dim=1)\n",
        "            all_preds.append(preds.cpu().numpy())\n",
        "            all_labels.append(labels.cpu().numpy())\n",
        "    val_loss /= len(val_loader)\n",
        "\n",
        "    print(f'Final Epoch {epoch+1}/15, Train Loss: {train_loss:.4f}, Val Loss: {val_loss:.4f}')\n",
        "    scheduler.step()"
      ],
      "metadata": {
        "colab": {
          "base_uri": "https://localhost:8080/"
        },
        "id": "lJkyvBH54qrx",
        "outputId": "3eb9580f-01e9-481f-9a0d-6549231916c5"
      },
      "execution_count": null,
      "outputs": [
        {
          "output_type": "stream",
          "name": "stdout",
          "text": [
            "Final Epoch 1/15, Train Loss: 0.9806, Val Loss: 0.8145\n",
            "Final Epoch 2/15, Train Loss: 0.7624, Val Loss: 0.7100\n",
            "Final Epoch 3/15, Train Loss: 0.6530, Val Loss: 0.5625\n",
            "Final Epoch 4/15, Train Loss: 0.5826, Val Loss: 0.5495\n",
            "Final Epoch 5/15, Train Loss: 0.5217, Val Loss: 0.4699\n",
            "Final Epoch 6/15, Train Loss: 0.4826, Val Loss: 0.4932\n",
            "Final Epoch 7/15, Train Loss: 0.4449, Val Loss: 0.4355\n",
            "Final Epoch 8/15, Train Loss: 0.4158, Val Loss: 0.3669\n",
            "Final Epoch 9/15, Train Loss: 0.3864, Val Loss: 0.3701\n",
            "Final Epoch 10/15, Train Loss: 0.3616, Val Loss: 0.3191\n",
            "Final Epoch 11/15, Train Loss: 0.3368, Val Loss: 0.3182\n",
            "Final Epoch 12/15, Train Loss: 0.3229, Val Loss: 0.3166\n",
            "Final Epoch 13/15, Train Loss: 0.3085, Val Loss: 0.2900\n",
            "Final Epoch 14/15, Train Loss: 0.2986, Val Loss: 0.2861\n",
            "Final Epoch 15/15, Train Loss: 0.2978, Val Loss: 0.2895\n"
          ]
        }
      ]
    },
    {
      "cell_type": "code",
      "source": [
        "torch.save({\n",
        "    'adapter_state_dict': adapter.state_dict(),\n",
        "    'model_state_dict': model.state_dict(),\n",
        "    'optimizer_state_dict': optimizer.state_dict(),\n",
        "    'best_params': best_params\n",
        "}, 'vit_lensing_model.pth')\n",
        "print(\"Model saved as 'vit_model_common_test.pth'\")"
      ],
      "metadata": {
        "colab": {
          "base_uri": "https://localhost:8080/"
        },
        "id": "JvmwyG5M4qox",
        "outputId": "f707108b-399b-4059-e036-10e414b9d427"
      },
      "execution_count": null,
      "outputs": [
        {
          "output_type": "stream",
          "name": "stdout",
          "text": [
            "Model saved as 'vit_model_common_test.pth'\n"
          ]
        }
      ]
    },
    {
      "cell_type": "code",
      "source": [
        "all_preds = np.concatenate(all_preds)\n",
        "all_labels = np.concatenate(all_labels)\n",
        "class_names = ['no', 'sphere', 'vort']"
      ],
      "metadata": {
        "id": "QMybnrf04ql-"
      },
      "execution_count": null,
      "outputs": []
    },
    {
      "cell_type": "code",
      "source": [
        "auc_scores = [roc_auc_score(all_labels == i, all_preds[:, i]) for i in range(3)]\n",
        "print(f'AUC Scores: {class_names[0]}={auc_scores[0]:.3f}, {class_names[1]}={auc_scores[1]:.3f}, {class_names[2]}={auc_scores[2]:.3f}, Overall={np.mean(auc_scores):.3f}')"
      ],
      "metadata": {
        "colab": {
          "base_uri": "https://localhost:8080/"
        },
        "id": "kM_vdCq14qjU",
        "outputId": "ddad63a4-fdbe-4c7e-dc65-1c8db149b12e"
      },
      "execution_count": null,
      "outputs": [
        {
          "output_type": "stream",
          "name": "stdout",
          "text": [
            "AUC Scores: no=0.985, sphere=0.964, vort=0.981, Overall=0.977\n"
          ]
        }
      ]
    },
    {
      "cell_type": "code",
      "source": [
        "plt.figure(figsize=(8, 6))\n",
        "for i in range(3):\n",
        "    fpr, tpr, _ = roc_curve(all_labels == i, all_preds[:, i])\n",
        "    plt.plot(fpr, tpr, label=f'{class_names[i]} (AUC = {auc_scores[i]:.3f})')\n",
        "plt.plot([0, 1], [0, 1], 'k--')\n",
        "plt.xlabel('False Positive Rate')\n",
        "plt.ylabel('True Positive Rate')\n",
        "plt.title('ROC Curves')\n",
        "plt.legend()\n",
        "plt.grid(True)\n",
        "plt.savefig('roc_curves.png')\n",
        "plt.close()\n",
        "plt.show()"
      ],
      "metadata": {
        "id": "ztWJg_u44qgQ"
      },
      "execution_count": null,
      "outputs": []
    },
    {
      "cell_type": "code",
      "source": [
        "cm = confusion_matrix(all_labels, all_preds.argmax(axis=1))\n",
        "print('Confusion Matrix:')\n",
        "print(cm)\n",
        "\n",
        "plt.figure(figsize=(6, 6))\n",
        "plt.imshow(cm, interpolation='nearest', cmap='Blues')\n",
        "plt.title('Confusion Matrix')\n",
        "plt.colorbar()\n",
        "tick_marks = np.arange(3)\n",
        "plt.xticks(tick_marks, class_names, rotation=45)\n",
        "plt.yticks(tick_marks, class_names)\n",
        "for i in range(3):\n",
        "    for j in range(3):\n",
        "        plt.text(j, i, cm[i, j], ha='center', va='center', color='black' if cm[i, j] < cm.max() / 2 else 'white')\n",
        "plt.xlabel('Predicted')\n",
        "plt.ylabel('True')\n",
        "plt.tight_layout()\n",
        "plt.savefig('confusion_matrix.png')\n",
        "plt.close()\n",
        "plt.show()"
      ],
      "metadata": {
        "colab": {
          "base_uri": "https://localhost:8080/"
        },
        "id": "Q69XNzsW4qeB",
        "outputId": "785937e8-e2f4-43fa-9b6c-b61a7cc47753"
      },
      "execution_count": null,
      "outputs": [
        {
          "output_type": "stream",
          "name": "stdout",
          "text": [
            "Confusion Matrix:\n",
            "[[2486   12    2]\n",
            " [ 342 1968  190]\n",
            " [ 166  122 2212]]\n"
          ]
        }
      ]
    },
    {
      "cell_type": "code",
      "source": [
        "print(\"Plots saved as 'roc_curves.png' and 'confusion_matrix.png'\")"
      ],
      "metadata": {
        "colab": {
          "base_uri": "https://localhost:8080/"
        },
        "id": "eUG_EfNy4qdb",
        "outputId": "23457ff4-d352-4d71-b817-364bc722fe86"
      },
      "execution_count": null,
      "outputs": [
        {
          "output_type": "stream",
          "name": "stdout",
          "text": [
            "Plots saved as 'roc_curves.png' and 'confusion_matrix.png'\n"
          ]
        }
      ]
    },
    {
      "cell_type": "code",
      "source": [
        "import matplotlib.pyplot as plt\n",
        "train_losses = [0.9806, 0.7624, 0.6530, 0.5826, 0.5217, 0.4826, 0.4449, 0.4158, 0.3864, 0.3616, 0.3368, 0.3229, 0.3085, 0.2986, 0.2978]\n",
        "val_losses = [0.8145, 0.7100, 0.5625, 0.5495, 0.4699, 0.4932, 0.4355, 0.3669, 0.3701, 0.3191, 0.3182, 0.3166, 0.2900, 0.2861, 0.2895]\n",
        "plt.figure(figsize=(8, 6))\n",
        "plt.plot(range(1, 16), train_losses, label=\"Train Loss\", marker=\"o\")\n",
        "plt.plot(range(1, 16), val_losses, label=\"Validation Loss\", marker=\"s\")\n",
        "plt.xlabel(\"Epochs\")\n",
        "plt.ylabel(\"Loss\")\n",
        "plt.legend()\n",
        "plt.title(\"Loss Curve\")\n",
        "plt.grid(True)\n",
        "plt.savefig(\"loss_curve.png\", dpi=300)"
      ],
      "metadata": {
        "colab": {
          "base_uri": "https://localhost:8080/",
          "height": 564
        },
        "id": "RMJnylNQFL80",
        "outputId": "fb6dddbd-c308-494f-8840-992b12f2a405"
      },
      "execution_count": 2,
      "outputs": [
        {
          "output_type": "display_data",
          "data": {
            "text/plain": [
              "<Figure size 800x600 with 1 Axes>"
            ],
            "image/png": "[encoded data removed]"
          },
          "metadata": {}
        }
      ]
    }
  ]
}